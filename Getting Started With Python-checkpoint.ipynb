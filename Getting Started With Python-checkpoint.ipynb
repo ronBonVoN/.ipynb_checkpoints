{
 "cells": [
  {
   "cell_type": "markdown",
   "id": "4a5e308f",
   "metadata": {},
   "source": [
    "## **Getting Started With Python**"
   ]
  },
  {
   "cell_type": "markdown",
   "id": "acafd6e4",
   "metadata": {},
   "source": [
    "### 0. Introduction\n",
    "\n",
    "Welcome to Python! This is a Jupyter notebook - this will serve as our interactive environment for learning how to code in Python. Jupyter is a mashup of Julia, Python, and R, three coding languages that are commonly used in data science. Python and Jupyter notebooks are now widely used to develop and test applications for machine learning, especially because snippets of code in code cells can be run and tested before being folded into a larger application that may be built in an IDE (integrated development environment) like PyCharm."
   ]
  },
  {
   "cell_type": "code",
   "execution_count": 1,
   "id": "3a598cac",
   "metadata": {
    "scrolled": true
   },
   "outputs": [
    {
     "name": "stdout",
     "output_type": "stream",
     "text": [
      "Hello, world!\n"
     ]
    }
   ],
   "source": [
    "# my first Python program - run this code cell!\n",
    "print(\"Hello, world!\")"
   ]
  },
  {
   "cell_type": "markdown",
   "id": "0d5df5b8",
   "metadata": {},
   "source": [
    "<div class=\"alert alert-block alert-info\">\n",
    "Now, you try: <br>\n",
    "1. copy and paste the code above into the next cell, but change the string that is being printed. <br>\n",
    "2. copy the line you just wrote, then change the double quotes to single quotes. (Be sure to change both of them!) <br>\n",
    "3. copy the line once again, but now use empty parentheses (no string input at all) in your <code>print()</code> function.\n",
    "    \n",
    "Run the cell after doing each part.\n",
    "</div>"
   ]
  },
  {
   "cell_type": "code",
   "execution_count": 13,
   "id": "f1ce4f27",
   "metadata": {},
   "outputs": [
    {
     "name": "stdout",
     "output_type": "stream",
     "text": [
      "wonderful \"things\"\n",
      "\n",
      "hoio\n"
     ]
    }
   ],
   "source": [
    "print('wonderful \\\"things\\\"')\n",
    "print()\n",
    "print(\"hoio\")"
   ]
  },
  {
   "cell_type": "markdown",
   "id": "c09bb58d",
   "metadata": {},
   "source": [
    "Now, run the code in the next cell:"
   ]
  },
  {
   "cell_type": "code",
   "execution_count": 17,
   "id": "6d2536be",
   "metadata": {},
   "outputs": [
    {
     "name": "stdout",
     "output_type": "stream",
     "text": [
      "Hello, world! tada\n"
     ]
    }
   ],
   "source": [
    "msg = \"Hello, world!\"\n",
    "print(msg, \"tada\")              # print() takes an argument that may either be a string or a variable representing a string"
   ]
  },
  {
   "cell_type": "markdown",
   "id": "68c8ce4b",
   "metadata": {},
   "source": [
    "In the previous code cell, note that ```msg``` is a <b>variable</b>. The value being assigned to it (using the ```=```, or <b>assignment</b> operator) is a <b>literal</b>, which happens to be the string (of characters) ```Hello, world!```. ```print()``` is a <b>function</b> that takes an <b>argument</b> ```msg```, an input to the function. Functions operate upon their inputs and produce outputs, which may be an action (such as displaying the value of the input, like ```print()``` does here), or which may be a variable holding a different value. <br>\n",
    "\n",
    "If you are unsure about how to use a function (that is, its syntax), use the ```help()``` function. For example, run the following cell."
   ]
  },
  {
   "cell_type": "code",
   "execution_count": 15,
   "id": "cee1f59f",
   "metadata": {},
   "outputs": [
    {
     "name": "stdout",
     "output_type": "stream",
     "text": [
      "Help on built-in function print in module builtins:\n",
      "\n",
      "print(...)\n",
      "    print(value, ..., sep=' ', end='\\n', file=sys.stdout, flush=False)\n",
      "    \n",
      "    Prints the values to a stream, or to sys.stdout by default.\n",
      "    Optional keyword arguments:\n",
      "    file:  a file-like object (stream); defaults to the current sys.stdout.\n",
      "    sep:   string inserted between values, default a space.\n",
      "    end:   string appended after the last value, default a newline.\n",
      "    flush: whether to forcibly flush the stream.\n",
      "\n"
     ]
    }
   ],
   "source": [
    "help(print)"
   ]
  },
  {
   "cell_type": "markdown",
   "id": "559c9cdc",
   "metadata": {},
   "source": [
    "Run the following code cell, and note that <code>name</code> is also a variable. This time, the value being assigned to <code>name</code> is the output of the function <code>input()</code>, which takes a string literal as its input. This function also performs an action - it pops up a text box and waits for the user to enter something at the keyboard before proceeding. <br>\n",
    "\n",
    "<code>\"Enter a name: \"</code> is a <b>prompt</b> - this tells the user what to do when keyboard input is expected. "
   ]
  },
  {
   "cell_type": "code",
   "execution_count": 18,
   "id": "bd868746",
   "metadata": {},
   "outputs": [
    {
     "name": "stdout",
     "output_type": "stream",
     "text": [
      "Enter a name: veronika\n",
      "veronika\n"
     ]
    }
   ],
   "source": [
    "name = input(\"Enter a name: \") #enter a name:\n",
    "print(name)"
   ]
  },
  {
   "cell_type": "markdown",
   "id": "8561d803",
   "metadata": {},
   "source": [
    "<div class=\"alert alert-block alert-info\">\n",
    "Your turn! Copy the code from the previous cell into the code cell below. <br>\n",
    "    \n",
    "Then, <br>\n",
    "    1. wherever it appears, change the name of the variable <code>s</code> to something else <br>\n",
    "    2. change the string for the prompt <br>\n",
    "    3. run the code cell <br>\n",
    "    \n",
    "Also, see what happens if you add extra spaces in the <code>input()</code> or <code>print()</code> statements.\n",
    "</div>"
   ]
  },
  {
   "cell_type": "code",
   "execution_count": 2,
   "id": "f35e1fba",
   "metadata": {},
   "outputs": [
    {
     "name": "stdout",
     "output_type": "stream",
     "text": [
      "give name pls: vonika\n",
      "vonika\n"
     ]
    }
   ],
   "source": [
    "mm = input(\"give name pls: \")\n",
    "print(mm)"
   ]
  },
  {
   "cell_type": "markdown",
   "id": "e1324b44",
   "metadata": {},
   "source": [
    "Now, let's say hello to a specific person, not the entire world. Run the next code cell, and guess what the <code>+</code> signs do."
   ]
  },
  {
   "cell_type": "code",
   "execution_count": 3,
   "id": "eb471bac",
   "metadata": {},
   "outputs": [
    {
     "name": "stdout",
     "output_type": "stream",
     "text": [
      "Enter a name: toby\n",
      "Hello, toby!\n"
     ]
    }
   ],
   "source": [
    "name = input(\"Enter a name: \")\n",
    "print(\"Hello, \" + name + \"!\")"
   ]
  },
  {
   "cell_type": "markdown",
   "id": "5a3f2404",
   "metadata": {},
   "source": [
    "We can do this another way, too."
   ]
  },
  {
   "cell_type": "code",
   "execution_count": 4,
   "id": "c10e8833",
   "metadata": {},
   "outputs": [
    {
     "name": "stdout",
     "output_type": "stream",
     "text": [
      "Enter a name: Tik\n",
      "Hello, Tik!\n"
     ]
    }
   ],
   "source": [
    "prompt = \"Enter a name: \"\n",
    "name = input(prompt)\n",
    "greeting = \"Hello, \" + name + \"!\"\n",
    "print(greeting)"
   ]
  },
  {
   "cell_type": "markdown",
   "id": "0c55fb68",
   "metadata": {},
   "source": [
    "You can also get output to appear in its own window, as if you were running a Windows (or Mac) app. To see this, run the next code cell. (You may need to minimize this browser window in order to see the popup message box.)"
   ]
  },
  {
   "cell_type": "code",
   "execution_count": 6,
   "id": "6d0e1248",
   "metadata": {},
   "outputs": [
    {
     "data": {
      "text/plain": [
       "1"
      ]
     },
     "execution_count": 6,
     "metadata": {},
     "output_type": "execute_result"
    }
   ],
   "source": [
    "# see https://stackoverflow.com/questions/34840838/how-to-specify-what-actually-happens-when-yes-no-is-clicked-with-ctypes-messageb\n",
    "import ctypes  # An included library with Python install.\n",
    "msg = \"Hello, world!\"\n",
    "title = \"HelloWorldApp\"\n",
    "ctypes.windll.user32.MessageBoxW(0, msg, title, 1)  # hwnd, text, caption, utype (0: OK, 1: OK/Cancel, 3: Yes/No/Cancel, 4: Yes/No)"
   ]
  },
  {
   "cell_type": "code",
   "execution_count": 7,
   "id": "c34b8db5",
   "metadata": {},
   "outputs": [
    {
     "name": "stdout",
     "output_type": "stream",
     "text": [
      "Enter a name: Hipo\n"
     ]
    },
    {
     "data": {
      "text/plain": [
       "1"
      ]
     },
     "execution_count": 7,
     "metadata": {},
     "output_type": "execute_result"
    }
   ],
   "source": [
    "import ctypes\n",
    "prompt = \"Enter a name: \"\n",
    "name = input(prompt)\n",
    "greeting = \"Hello, \" + name + \"!\"\n",
    "title = \"HelloApp\"\n",
    "ctypes.windll.user32.MessageBoxW(0, greeting, title, 0)"
   ]
  },
  {
   "cell_type": "markdown",
   "id": "e2c29d30",
   "metadata": {},
   "source": [
    "### 1. Basic Data Types\n",
    "You just used a ```print()``` command to display a string in the cell's output window. The ```print()``` command can only print strings - but what is a string? <br> <br>\n",
    "Python has a number of basic data types:\n",
    "- numbers\n",
    "    - integers\n",
    "    - floats\n",
    "    - complex\n",
    "- strings\n",
    "- Booleans\n",
    "\n",
    "<br>Examples of <b>integers</b>: <br>\n",
    "<code> -2 &nbsp; &nbsp; -1 &nbsp; &nbsp; 0 &nbsp; &nbsp; 1 &nbsp; &nbsp; 2 &nbsp; &nbsp; 314 &nbsp; &nbsp; 12345 </code>\n",
    "\n",
    "These are representations of integers that are <b>NOT ALLOWED</b> in Python: <br>\n",
    "<code> 12,345 &nbsp; &nbsp; 12.345 &nbsp; &nbsp; 123 456 789 &nbsp; &nbsp; 0123 </code>(spaces, periods, commas, and leading zeros are no-nos)\n",
    "\n",
    "<br>Examples of <b>floats</b> (floating-point numbers): <br>\n",
    "<code> -12.345 &nbsp; &nbsp; 12.34E-02 &nbsp; &nbsp; -12.345E+03 &nbsp; &nbsp; 001.234 </code> (leading zeros are OK for floats)\n",
    "\n",
    "These are representations of floats that are <b>NOT ALLOWED</b> in Python: <br>\n",
    "<code> 12,345.67 &nbsp; &nbsp; 12.345,67 &nbsp; &nbsp;  1.1.1 </code> (commas or more than one period are also no-nos)\n",
    "\n",
    "<br>Examples of <b>complex</b> numbers (numbers with a real and imaginary part, either integers or floating-point numbers): <br>\n",
    "<code> 3 + 4j &nbsp; &nbsp; 4.3E+01j-1.34E-02 &nbsp; &nbsp; 001.234j &nbsp; &nbsp; 1.0 - 003j </code> (leading zeros are OK for the imaginary part, even if it's an integer)\n",
    "\n",
    "These are representations of complex numbers that are <b>NOT ALLOWED</b> in Python: <br>\n",
    "<code> 12,345.67 - 8.9j &nbsp; &nbsp; 003 + 007j </code> (leading zeros are not allowed for the real part if it's an integer)\n",
    "\n",
    "<br>Examples of <b>strings</b> (arrays of characters): <br>\n",
    "<code> \"Hello, world!\" &nbsp; &nbsp; '¿Quién es 123?' &nbsp; &nbsp; \"here is a string with 'single quotes' enclosed by double quotes\" </code>\n",
    "\n",
    "These characters have special meaning in Python strings:\n",
    "<code> \\ &nbsp; &nbsp;   ' &nbsp; &nbsp;   \" </code>\n",
    "\n",
    "| Escape Sequence | Result | Example | Output |\n",
    "| :--: | :--: | :- | :- |\n",
    "| ``` \\' ``` | single quote | ```print(\"blah \\'blah\\' blah\")```| ``` blah 'blah' blah ```|\n",
    "| ``` \\\" ``` | double quote | ```print('blah \\\"blah\\\" blah')``` | ``` blah \"blah\" blah ```|\n",
    "| ``` \\\\ ``` | backslash | ```print(\"backslashes (\\\\) must be escaped\")``` |  ``` backslashes (\\) must be escaped ```|\n",
    "| ``` \\n ``` | newline | ```print(\"line one \\nline two\")``` | ``` line one ```<br>``` line two ```|\n",
    "| ``` \\r ``` | carriage return | ```print(\"line first \\rline two\")``` | ``` line twost ``` |\n",
    "| ``` \\t ``` | tab | ```print(\"phrase one \\tphrase two\")``` | ```phrase one      phrase two``` |\n",
    "| ``` \\b ``` | backspace | ```print(\"char one\\bchar two\")``` | ```char onchar two``` |\n",
    "\n",
    "\n",
    "<br>Examples of <b>Booleans</b> (logical values True and False): <br>\n",
    "<code> True  &nbsp; &nbsp;  False </code>\n",
    "\n",
    "These are representations of Booleans that are <b>NOT ALLOWED</b> in Python: <br>\n",
    "<code> true  &nbsp; &nbsp;  false </code> (the T and the F must be capitalized)\n",
    "\n",
    "<br> All the examples above are of <b>literals</b>, specific (and unchangeable) values for each of these data types.\n",
    "\n",
    "<br> To obtain the type of a variable or literal, use the <code>type()</code> function: <br>"
   ]
  },
  {
   "cell_type": "code",
   "execution_count": 13,
   "id": "d0a0cf8e",
   "metadata": {},
   "outputs": [
    {
     "name": "stdout",
     "output_type": "stream",
     "text": [
      "3.78\n",
      "<class 'float'>\n",
      "3.4\n",
      "<class 'str'>\n"
     ]
    }
   ],
   "source": [
    "b = 3.78\n",
    "print(b)\n",
    "print(type(b))\n",
    "numstr = \"3.4\"\n",
    "print(numstr)\n",
    "print(type(numstr))"
   ]
  },
  {
   "cell_type": "markdown",
   "id": "226029b8",
   "metadata": {},
   "source": [
    "<div class=\"alert alert-block alert-info\">\n",
    "Now, your turn! Let's experiment with different data types. <br>\n",
    "    \n",
    "In the cell below, write lines of code that assign literals of these types to a variable named <code>s</code>:\n",
    "1. a string <br>\n",
    "2. an integer <br>\n",
    "3. a floating-point number <br>\n",
    "4. a Boolean <br>\n",
    "    \n",
    "After each, print the value of <code>s</code> and its data type.\n",
    "</div>"
   ]
  },
  {
   "cell_type": "code",
   "execution_count": 22,
   "id": "3f301df9",
   "metadata": {},
   "outputs": [
    {
     "name": "stdout",
     "output_type": "stream",
     "text": [
      "hi\n",
      "<class 'str'>\n",
      "\n",
      "\n",
      "5\n",
      "<class 'int'>\n",
      "\n",
      "\n",
      "7.8\n",
      "<class 'float'>\n",
      "\n",
      "\n",
      "False\n",
      "<class 'bool'>\n"
     ]
    }
   ],
   "source": [
    "s = \"hi\"\n",
    "print(s)\n",
    "print(type(s))\n",
    "print(\"\\n\")\n",
    "\n",
    "s = 5\n",
    "print(s)\n",
    "print(type(s))\n",
    "print(\"\\n\")\n",
    "\n",
    "s = 7.8 \n",
    "print(s)\n",
    "print(type(s))\n",
    "print(\"\\n\")\n",
    "\n",
    "s = False\n",
    "print(s)\n",
    "print(type(s))"
   ]
  },
  {
   "cell_type": "markdown",
   "id": "9caa32df",
   "metadata": {},
   "source": [
    "However, if we try to do this with user input from the keyboard, something unexpected occurs. Run this code below, and input a string, an integer, a float, and a Boolean. What is the data type of each? What do you think is happening here?"
   ]
  },
  {
   "cell_type": "code",
   "execution_count": 3,
   "id": "6f031b24",
   "metadata": {},
   "outputs": [
    {
     "name": "stdout",
     "output_type": "stream",
     "text": [
      "Type a string, integer, float, or Boolean: 2\n",
      "2\n",
      "<class 'str'>\n"
     ]
    }
   ],
   "source": [
    "s = input(\"Type a string, integer, float, or Boolean: \")\n",
    "print(s)\n",
    "print(type(s))\n",
    "\n",
    "#it somehow thinks everything you input is a string - maybe the input function only outputs strings"
   ]
  },
  {
   "cell_type": "markdown",
   "id": "c552fb2d",
   "metadata": {},
   "source": [
    "### 2. ```turtle```\n",
    "\n",
    "<code>turtle</code> is a pre-installed library for Python that is used to teach children the basics of coding. Here the subset of ```turtle``` functions (methods) that are available with the module ```mobilechelonian```, a port of ```turtle``` that works well with Jupyter Notebook: <br>\n",
    "\n",
    "| function | action |\n",
    "| --: | :-- |\n",
    "| ```speed(num)``` | sets speed of turtle from slow (1) to fast (10) |\n",
    "| ```home()``` | sets position of turtle at (200, 200), bearing East |\n",
    "| ```pencolor(color)``` | sets color of pen (\"red\", \"blue\", \"yellow\", \"brown\", \"black\", \"purple\", \"green\") |\n",
    "| ```pendown()``` | puts the pen down - turtle draws while moving with its pen down |\n",
    "| ```penup()``` | lifts up the pen - turtle does not draw while moving with its pen up |\n",
    "| ```setposition(xPos, yPos, [angle])``` | sets position of turtle: upper left corner is (0, 0), center is (200, 200) |\n",
    "| ```setbearing(angle)``` | sets angle that turtle is facing: North is 0 degrees |\n",
    "| ```right(angle)``` | turtle changes bearing by rotating clockwise by the specified angle |\n",
    "| ```left(angle)``` | turtle changes bearing by rotating counterclockwise by the specified angle |\n",
    "| ```forward(dist)``` | from its current location, turtle travels forward (in the direction of its bearing) by the specified distance |\n",
    "| ```backward(dist)``` | from its current location, turtle travels backward (opposite the direction of its bearing) by the specified distance |\n",
    "| ```circle(diam)``` | from its current location, turtle travels in a circle of specified diameter |\n",
    "\n",
    "If you have not installed the module <code>mobilechelonian</code> yet, run the next cell before invoking cells that use <code>turtle</code>."
   ]
  },
  {
   "cell_type": "code",
   "execution_count": 6,
   "id": "6142e9c5",
   "metadata": {},
   "outputs": [
    {
     "name": "stdout",
     "output_type": "stream",
     "text": [
      "Collecting mobilechelonian\n",
      "  Downloading mobilechelonian-0.5-py2.py3-none-any.whl (94 kB)\n",
      "Requirement already satisfied: ipywidgets>=7.0.0 in c:\\users\\veronikadavis\\anaconda3\\lib\\site-packages (from mobilechelonian) (7.6.3)\n",
      "Requirement already satisfied: IPython in c:\\users\\veronikadavis\\anaconda3\\lib\\site-packages (from mobilechelonian) (7.22.0)\n",
      "Requirement already satisfied: jupyterlab-widgets>=1.0.0 in c:\\users\\veronikadavis\\anaconda3\\lib\\site-packages (from ipywidgets>=7.0.0->mobilechelonian) (1.0.0)\n",
      "Requirement already satisfied: nbformat>=4.2.0 in c:\\users\\veronikadavis\\anaconda3\\lib\\site-packages (from ipywidgets>=7.0.0->mobilechelonian) (5.1.3)\n",
      "Requirement already satisfied: traitlets>=4.3.1 in c:\\users\\veronikadavis\\anaconda3\\lib\\site-packages (from ipywidgets>=7.0.0->mobilechelonian) (5.0.5)\n",
      "Requirement already satisfied: ipykernel>=4.5.1 in c:\\users\\veronikadavis\\anaconda3\\lib\\site-packages (from ipywidgets>=7.0.0->mobilechelonian) (5.3.4)\n",
      "Requirement already satisfied: widgetsnbextension~=3.5.0 in c:\\users\\veronikadavis\\anaconda3\\lib\\site-packages (from ipywidgets>=7.0.0->mobilechelonian) (3.5.1)\n",
      "Requirement already satisfied: jupyter-client in c:\\users\\veronikadavis\\anaconda3\\lib\\site-packages (from ipykernel>=4.5.1->ipywidgets>=7.0.0->mobilechelonian) (6.1.12)\n",
      "Requirement already satisfied: tornado>=4.2 in c:\\users\\veronikadavis\\anaconda3\\lib\\site-packages (from ipykernel>=4.5.1->ipywidgets>=7.0.0->mobilechelonian) (6.1)\n",
      "Requirement already satisfied: colorama in c:\\users\\veronikadavis\\anaconda3\\lib\\site-packages (from IPython->mobilechelonian) (0.4.4)\n",
      "Requirement already satisfied: prompt-toolkit!=3.0.0,!=3.0.1,<3.1.0,>=2.0.0 in c:\\users\\veronikadavis\\anaconda3\\lib\\site-packages (from IPython->mobilechelonian) (3.0.17)\n",
      "Requirement already satisfied: decorator in c:\\users\\veronikadavis\\anaconda3\\lib\\site-packages (from IPython->mobilechelonian) (5.0.6)\n",
      "Requirement already satisfied: backcall in c:\\users\\veronikadavis\\anaconda3\\lib\\site-packages (from IPython->mobilechelonian) (0.2.0)\n",
      "Requirement already satisfied: jedi>=0.16 in c:\\users\\veronikadavis\\anaconda3\\lib\\site-packages (from IPython->mobilechelonian) (0.17.2)\n",
      "Requirement already satisfied: pickleshare in c:\\users\\veronikadavis\\anaconda3\\lib\\site-packages (from IPython->mobilechelonian) (0.7.5)\n",
      "Requirement already satisfied: pygments in c:\\users\\veronikadavis\\anaconda3\\lib\\site-packages (from IPython->mobilechelonian) (2.8.1)\n",
      "Requirement already satisfied: setuptools>=18.5 in c:\\users\\veronikadavis\\anaconda3\\lib\\site-packages (from IPython->mobilechelonian) (52.0.0.post20210125)\n",
      "Requirement already satisfied: parso<0.8.0,>=0.7.0 in c:\\users\\veronikadavis\\anaconda3\\lib\\site-packages (from jedi>=0.16->IPython->mobilechelonian) (0.7.0)\n",
      "Requirement already satisfied: jsonschema!=2.5.0,>=2.4 in c:\\users\\veronikadavis\\anaconda3\\lib\\site-packages (from nbformat>=4.2.0->ipywidgets>=7.0.0->mobilechelonian) (3.2.0)\n",
      "Requirement already satisfied: jupyter-core in c:\\users\\veronikadavis\\anaconda3\\lib\\site-packages (from nbformat>=4.2.0->ipywidgets>=7.0.0->mobilechelonian) (4.7.1)\n",
      "Requirement already satisfied: ipython-genutils in c:\\users\\veronikadavis\\anaconda3\\lib\\site-packages (from nbformat>=4.2.0->ipywidgets>=7.0.0->mobilechelonian) (0.2.0)\n",
      "Requirement already satisfied: pyrsistent>=0.14.0 in c:\\users\\veronikadavis\\anaconda3\\lib\\site-packages (from jsonschema!=2.5.0,>=2.4->nbformat>=4.2.0->ipywidgets>=7.0.0->mobilechelonian) (0.17.3)\n",
      "Requirement already satisfied: attrs>=17.4.0 in c:\\users\\veronikadavis\\anaconda3\\lib\\site-packages (from jsonschema!=2.5.0,>=2.4->nbformat>=4.2.0->ipywidgets>=7.0.0->mobilechelonian) (20.3.0)\n",
      "Requirement already satisfied: six>=1.11.0 in c:\\users\\veronikadavis\\anaconda3\\lib\\site-packages (from jsonschema!=2.5.0,>=2.4->nbformat>=4.2.0->ipywidgets>=7.0.0->mobilechelonian) (1.15.0)\n",
      "Requirement already satisfied: wcwidth in c:\\users\\veronikadavis\\anaconda3\\lib\\site-packages (from prompt-toolkit!=3.0.0,!=3.0.1,<3.1.0,>=2.0.0->IPython->mobilechelonian) (0.2.5)\n",
      "Requirement already satisfied: notebook>=4.4.1 in c:\\users\\veronikadavis\\anaconda3\\lib\\site-packages (from widgetsnbextension~=3.5.0->ipywidgets>=7.0.0->mobilechelonian) (6.3.0)\n",
      "Requirement already satisfied: terminado>=0.8.3 in c:\\users\\veronikadavis\\anaconda3\\lib\\site-packages (from notebook>=4.4.1->widgetsnbextension~=3.5.0->ipywidgets>=7.0.0->mobilechelonian) (0.9.4)\n",
      "Requirement already satisfied: Send2Trash>=1.5.0 in c:\\users\\veronikadavis\\anaconda3\\lib\\site-packages (from notebook>=4.4.1->widgetsnbextension~=3.5.0->ipywidgets>=7.0.0->mobilechelonian) (1.5.0)\n",
      "Requirement already satisfied: prometheus-client in c:\\users\\veronikadavis\\anaconda3\\lib\\site-packages (from notebook>=4.4.1->widgetsnbextension~=3.5.0->ipywidgets>=7.0.0->mobilechelonian) (0.10.1)\n",
      "Requirement already satisfied: nbconvert in c:\\users\\veronikadavis\\anaconda3\\lib\\site-packages (from notebook>=4.4.1->widgetsnbextension~=3.5.0->ipywidgets>=7.0.0->mobilechelonian) (6.0.7)Note: you may need to restart the kernel to use updated packages.\n",
      "Requirement already satisfied: jinja2 in c:\\users\\veronikadavis\\anaconda3\\lib\\site-packages (from notebook>=4.4.1->widgetsnbextension~=3.5.0->ipywidgets>=7.0.0->mobilechelonian) (2.11.3)\n",
      "Requirement already satisfied: argon2-cffi in c:\\users\\veronikadavis\\anaconda3\\lib\\site-packages (from notebook>=4.4.1->widgetsnbextension~=3.5.0->ipywidgets>=7.0.0->mobilechelonian) (20.1.0)\n",
      "Requirement already satisfied: pyzmq>=17 in c:\\users\\veronikadavis\\anaconda3\\lib\\site-packages (from notebook>=4.4.1->widgetsnbextension~=3.5.0->ipywidgets>=7.0.0->mobilechelonian) (19.0.2)\n",
      "Requirement already satisfied: python-dateutil>=2.1 in c:\\users\\veronikadavis\\anaconda3\\lib\\site-packages (from jupyter-client->ipykernel>=4.5.1->ipywidgets>=7.0.0->mobilechelonian) (2.8.1)\n",
      "Requirement already satisfied: pywin32>=1.0 in c:\\users\\veronikadavis\\anaconda3\\lib\\site-packages (from jupyter-core->nbformat>=4.2.0->ipywidgets>=7.0.0->mobilechelonian) (227)\n",
      "Requirement already satisfied: pywinpty>=0.5 in c:\\users\\veronikadavis\\anaconda3\\lib\\site-packages (from terminado>=0.8.3->notebook>=4.4.1->widgetsnbextension~=3.5.0->ipywidgets>=7.0.0->mobilechelonian) (0.5.7)\n",
      "Requirement already satisfied: cffi>=1.0.0 in c:\\users\\veronikadavis\\anaconda3\\lib\\site-packages (from argon2-cffi->notebook>=4.4.1->widgetsnbextension~=3.5.0->ipywidgets>=7.0.0->mobilechelonian) (1.14.5)\n",
      "Requirement already satisfied: pycparser in c:\\users\\veronikadavis\\anaconda3\\lib\\site-packages (from cffi>=1.0.0->argon2-cffi->notebook>=4.4.1->widgetsnbextension~=3.5.0->ipywidgets>=7.0.0->mobilechelonian) (2.20)\n",
      "Requirement already satisfied: MarkupSafe>=0.23 in c:\\users\\veronikadavis\\anaconda3\\lib\\site-packages (from jinja2->notebook>=4.4.1->widgetsnbextension~=3.5.0->ipywidgets>=7.0.0->mobilechelonian) (1.1.1)\n",
      "Requirement already satisfied: mistune<2,>=0.8.1 in c:\\users\\veronikadavis\\anaconda3\\lib\\site-packages (from nbconvert->notebook>=4.4.1->widgetsnbextension~=3.5.0->ipywidgets>=7.0.0->mobilechelonian) (0.8.4)\n",
      "Requirement already satisfied: defusedxml in c:\\users\\veronikadavis\\anaconda3\\lib\\site-packages (from nbconvert->notebook>=4.4.1->widgetsnbextension~=3.5.0->ipywidgets>=7.0.0->mobilechelonian) (0.7.1)\n",
      "Requirement already satisfied: jupyterlab-pygments in c:\\users\\veronikadavis\\anaconda3\\lib\\site-packages (from nbconvert->notebook>=4.4.1->widgetsnbextension~=3.5.0->ipywidgets>=7.0.0->mobilechelonian) (0.1.2)\n",
      "Requirement already satisfied: bleach in c:\\users\\veronikadavis\\anaconda3\\lib\\site-packages (from nbconvert->notebook>=4.4.1->widgetsnbextension~=3.5.0->ipywidgets>=7.0.0->mobilechelonian) (3.3.0)\n",
      "Requirement already satisfied: testpath in c:\\users\\veronikadavis\\anaconda3\\lib\\site-packages (from nbconvert->notebook>=4.4.1->widgetsnbextension~=3.5.0->ipywidgets>=7.0.0->mobilechelonian) (0.4.4)\n",
      "Requirement already satisfied: nbclient<0.6.0,>=0.5.0 in c:\\users\\veronikadavis\\anaconda3\\lib\\site-packages (from nbconvert->notebook>=4.4.1->widgetsnbextension~=3.5.0->ipywidgets>=7.0.0->mobilechelonian) (0.5.3)\n",
      "Requirement already satisfied: entrypoints>=0.2.2 in c:\\users\\veronikadavis\\anaconda3\\lib\\site-packages (from nbconvert->notebook>=4.4.1->widgetsnbextension~=3.5.0->ipywidgets>=7.0.0->mobilechelonian) (0.3)\n",
      "Requirement already satisfied: pandocfilters>=1.4.1 in c:\\users\\veronikadavis\\anaconda3\\lib\\site-packages (from nbconvert->notebook>=4.4.1->widgetsnbextension~=3.5.0->ipywidgets>=7.0.0->mobilechelonian) (1.4.3)\n",
      "Requirement already satisfied: nest-asyncio in c:\\users\\veronikadavis\\anaconda3\\lib\\site-packages (from nbclient<0.6.0,>=0.5.0->nbconvert->notebook>=4.4.1->widgetsnbextension~=3.5.0->ipywidgets>=7.0.0->mobilechelonian) (1.5.1)\n",
      "Requirement already satisfied: async-generator in c:\\users\\veronikadavis\\anaconda3\\lib\\site-packages (from nbclient<0.6.0,>=0.5.0->nbconvert->notebook>=4.4.1->widgetsnbextension~=3.5.0->ipywidgets>=7.0.0->mobilechelonian) (1.10)\n",
      "Requirement already satisfied: webencodings in c:\\users\\veronikadavis\\anaconda3\\lib\\site-packages (from bleach->nbconvert->notebook>=4.4.1->widgetsnbextension~=3.5.0->ipywidgets>=7.0.0->mobilechelonian) (0.5.1)\n",
      "Requirement already satisfied: packaging in c:\\users\\veronikadavis\\anaconda3\\lib\\site-packages (from bleach->nbconvert->notebook>=4.4.1->widgetsnbextension~=3.5.0->ipywidgets>=7.0.0->mobilechelonian) (20.9)\n",
      "Requirement already satisfied: pyparsing>=2.0.2 in c:\\users\\veronikadavis\\anaconda3\\lib\\site-packages (from packaging->bleach->nbconvert->notebook>=4.4.1->widgetsnbextension~=3.5.0->ipywidgets>=7.0.0->mobilechelonian) (2.4.7)\n",
      "Installing collected packages: mobilechelonian\n",
      "Successfully installed mobilechelonian-0.5\n",
      "\n"
     ]
    }
   ],
   "source": [
    "pip install mobilechelonian"
   ]
  },
  {
   "cell_type": "markdown",
   "id": "a0edda30",
   "metadata": {},
   "source": [
    "Run the code cell below to see a simple example of what ```turtle``` can do:"
   ]
  },
  {
   "cell_type": "code",
   "execution_count": 1,
   "id": "5aec79dc",
   "metadata": {},
   "outputs": [
    {
     "data": {
      "application/vnd.jupyter.widget-view+json": {
       "model_id": "0c68504855eb4f158ffabd4759769f92",
       "version_major": 2,
       "version_minor": 0
      },
      "text/plain": [
       "Turtle()"
      ]
     },
     "metadata": {},
     "output_type": "display_data"
    }
   ],
   "source": [
    "from mobilechelonian import Turtle\n",
    "t = Turtle()\n",
    "t.speed(2)\n",
    "t.home()\n",
    "t.penup()\n",
    "\n",
    "t.pencolor(\"blue\")\n",
    "t.setposition(200, 200)\n",
    "t.pendown()\n",
    "t.forward(100)\n",
    "t.penup()\n",
    "\n",
    "t.pencolor(\"green\")\n",
    "t.setposition(200, 200)\n",
    "t.right(90)\n",
    "t.pendown()\n",
    "t.forward(100)\n",
    "t.penup()\n",
    "\n",
    "t.pencolor(\"red\")\n",
    "t.setposition(200, 200)\n",
    "t.right(90)\n",
    "t.pendown()\n",
    "t.forward(100)\n",
    "t.penup()\n",
    "\n",
    "t.pencolor(\"yellow\")\n",
    "t.setposition(200, 200)\n",
    "t.right(90)\n",
    "t.pendown()\n",
    "t.forward(100)\n",
    "t.penup()\n",
    "\n",
    "\n",
    "t.setposition(200, 200)"
   ]
  },
  {
   "cell_type": "markdown",
   "id": "0ca9ad5e",
   "metadata": {},
   "source": [
    "<div class=\"alert alert-block alert-info\">\n",
    "Your turn now. Copy the code from the cell above into the cell below. Then, <br>\n",
    "\n",
    "1. make it go more quickly by increasing the turtle's speed in line 3 <br>\n",
    "2. try making changes to the code to draw six lines instead of just four <br>\n",
    "3. replace all instances of <code>t.forward(100)</code> with <code>t.circle(50)</code> <br>\n",
    "    \n",
    "Run the cell after doing each task.\n",
    "</div>"
   ]
  },
  {
   "cell_type": "code",
   "execution_count": 1,
   "id": "6804abc0",
   "metadata": {},
   "outputs": [
    {
     "data": {
      "application/vnd.jupyter.widget-view+json": {
       "model_id": "83bed5d7e3ba4d2fbd36b84c16697883",
       "version_major": 2,
       "version_minor": 0
      },
      "text/plain": [
       "Turtle()"
      ]
     },
     "metadata": {},
     "output_type": "display_data"
    }
   ],
   "source": [
    "n = 90\n",
    "\n",
    "from mobilechelonian import Turtle\n",
    "t = Turtle()\n",
    "t.speed(10)\n",
    "t.penup()\n",
    "\n",
    "t.pencolor(\"blue\")\n",
    "t.setposition(200, 200)\n",
    "t.left(135)\n",
    "t.penup()\n",
    "t.forward(200)\n",
    "\n",
    "t.right(135)\n",
    "t.pendown()\n",
    "t.forward(300)\n",
    "\n",
    "t.right(n)\n",
    "t.forward(300)\n",
    "\n",
    "t.right(n)\n",
    "t.forward(250)\n",
    "\n",
    "t.right(n)\n",
    "t.forward(200)\n",
    "\n",
    "t.right(n)\n",
    "t.forward(150)\n",
    "\n",
    "t.right(n)\n",
    "t.forward(100)\n",
    "\n",
    "t.right(n)\n",
    "t.forward(50)\n",
    "\n",
    "t.right(n)\n",
    "t.circle(30)\n",
    "t.penup\n",
    "\n",
    "t.pencolor(\"yellow\")\n",
    "t.setposition(150,150)\n",
    "\n",
    "t.pendown\n",
    "t.circle(40)\n"
   ]
  },
  {
   "cell_type": "markdown",
   "id": "8fbffa7d",
   "metadata": {},
   "source": [
    "#### Thinking like a programmer\n",
    "\n",
    "Now that you've had some experience with <code>turtle</code>, let's do something that gets you out of your seats. Suppose that one of your tablemates plays the role of the turtle! (You can take turns, too.) Choose a location, and choose a direction to face, which will be your \"home\" position. In groups, have a person be the \"turtle\", while the rest of you are its \"programmers\". First, write a series of instructions that tell your turtle to take two paces forward, turn 90° right, take another two paces forward, turn 90° right, then repeat this sequence twice more. Where does your turtle end up? <br>\n",
    "\n",
    "<div class=\"alert alert-block alert-info\">\n",
    "Write these instructions below, but use the coding language you saw above.\n",
    "</div>"
   ]
  },
  {
   "cell_type": "code",
   "execution_count": 7,
   "id": "dcc39d97",
   "metadata": {},
   "outputs": [
    {
     "data": {
      "application/vnd.jupyter.widget-view+json": {
       "model_id": "5875e82cfd2d4f7885f95c391ed672ae",
       "version_major": 2,
       "version_minor": 0
      },
      "text/plain": [
       "Turtle()"
      ]
     },
     "metadata": {},
     "output_type": "display_data"
    }
   ],
   "source": [
    "from mobilechelonian import Turtle\n",
    "t = Turtle()\n",
    "t.speed(2)\n",
    "t.home()\n",
    "t.penup()\n",
    "\n",
    "t.pencolor(\"green\")\n",
    "t.setposition(180, 180)\n",
    "t.pendown()\n",
    "t.forward(40)\n",
    "\n",
    "t.right(90)\n",
    "t.forward(40)\n",
    "t.right(90)\n",
    "t.forward(40)\n",
    "t.right(90)\n",
    "t.forward(40)"
   ]
  },
  {
   "cell_type": "markdown",
   "id": "ca98fefe",
   "metadata": {},
   "source": [
    "<div class=\"alert alert-block alert-info\">\n",
    "Now, insert <code>pendown()</code>, <code>penup()</code>, <code>pencolor()</code>, <code>setposition()</code>, and other statements to make Python draw the figure in this notebook. Also, turn your paces into pixels - let 1 pace = 50 pixels.\n",
    "</div>"
   ]
  },
  {
   "cell_type": "code",
   "execution_count": 60,
   "id": "d4ef9369",
   "metadata": {},
   "outputs": [
    {
     "data": {
      "application/vnd.jupyter.widget-view+json": {
       "model_id": "349f1472ace644509ac1d23cd684a1f5",
       "version_major": 2,
       "version_minor": 0
      },
      "text/plain": [
       "Turtle()"
      ]
     },
     "metadata": {},
     "output_type": "display_data"
    }
   ],
   "source": [
    "paces = 1\n",
    "x = paces*100\n",
    "\n",
    "from mobilechelonian import Turtle\n",
    "t = Turtle()\n",
    "t.speed(2)\n",
    "t.home()\n",
    "t.penup()\n",
    "\n",
    "t.pencolor(\"green\")\n",
    "t.setposition(180, 180)\n",
    "\n",
    "t.pendown()\n",
    "t.forward(x)\n",
    "t.right(90)\n",
    "t.forward(x)\n",
    "t.right(90)\n",
    "t.forward(x)\n",
    "t.right(90)\n",
    "t.forward(x)"
   ]
  },
  {
   "cell_type": "markdown",
   "id": "a7e0ac65",
   "metadata": {},
   "source": [
    "<div class=\"alert alert-block alert-info\">\n",
    "Next, see if you can figure out how to get your turtle to make a regular octagon (the shape of a STOP sign) - what directions would you have to issue? Write those instructions below, also using the coding language. Then, insert <code>pendown()</code>, <code>penup()</code>, <code>pencolor()</code>, <code>setposition()</code>, and other statements to make Python draw the figure in this notebook.\n",
    "</div>"
   ]
  },
  {
   "cell_type": "code",
   "execution_count": 4,
   "id": "0d222f83",
   "metadata": {},
   "outputs": [
    {
     "data": {
      "application/vnd.jupyter.widget-view+json": {
       "model_id": "b485aa68f93b4aa8a42fb6fe025ad3c5",
       "version_major": 2,
       "version_minor": 0
      },
      "text/plain": [
       "Turtle()"
      ]
     },
     "metadata": {},
     "output_type": "display_data"
    }
   ],
   "source": [
    "from mobilechelonian import Turtle\n",
    "t = Turtle()\n",
    "t.speed(10)\n",
    "t.home()\n",
    "t.penup()\n",
    "\n",
    "t.pencolor(\"purple\")\n",
    "t.pendown()\n",
    "t.setposition(160,200)\n",
    "\n",
    "t.right(135)\n",
    "t.forward(40)\n",
    "\n",
    "t.right(135)\n",
    "t.backward(40)\n",
    "\n",
    "t.right(135)\n",
    "t.forward(40)\n",
    "\n",
    "t.right(135)\n",
    "t.backward(40)\n",
    "\n",
    "t.right(135)\n",
    "t.forward(40)\n",
    "\n",
    "t.right(135)\n",
    "t.backward(40)\n",
    "\n",
    "t.right(135)\n",
    "t.forward(40)"
   ]
  },
  {
   "cell_type": "markdown",
   "id": "b6b067d0",
   "metadata": {},
   "source": [
    "<div class=\"alert alert-block alert-info\">\n",
    "Then, see if you can \"program\" your turtle to make a regular hexagon - write the program in the code cell below.\n",
    "</div>"
   ]
  },
  {
   "cell_type": "code",
   "execution_count": 58,
   "id": "1a7e4d76",
   "metadata": {},
   "outputs": [
    {
     "data": {
      "application/vnd.jupyter.widget-view+json": {
       "model_id": "e8407f73ede94080848cfbabd77f52b1",
       "version_major": 2,
       "version_minor": 0
      },
      "text/plain": [
       "Turtle()"
      ]
     },
     "metadata": {},
     "output_type": "display_data"
    }
   ],
   "source": [
    "from mobilechelonian import Turtle\n",
    "t = Turtle()\n",
    "t.speed(10)\n",
    "t.home()\n",
    "t.penup()\n",
    "\n",
    "t.pencolor(\"orange\")\n",
    "t.setposition(200,200)\n",
    "t.pendown()\n",
    "\n",
    "t.forward(40)\n",
    "\n",
    "for x in range(0,5):\n",
    "    t.right(60)\n",
    "    t.forward(40)\n"
   ]
  },
  {
   "cell_type": "markdown",
   "id": "4febb75f",
   "metadata": {},
   "source": [
    "<div class=\"alert alert-block alert-info\">\n",
    "Going back to the square you made a few cells ago, now \"program\" your \"turtle\" to make three paces instead of two for each move, so that it still ends up at home upon completing the program. How would your instructions (code) have to change? What if you wanted to specify beforehand how many paces your \"turtle\" should make?\n",
    "</div>"
   ]
  },
  {
   "cell_type": "code",
   "execution_count": 6,
   "id": "13387dfe",
   "metadata": {},
   "outputs": [
    {
     "data": {
      "application/vnd.jupyter.widget-view+json": {
       "model_id": "cedd7d4022214cc8bdc5bbd5504f7b35",
       "version_major": 2,
       "version_minor": 0
      },
      "text/plain": [
       "Turtle()"
      ]
     },
     "metadata": {},
     "output_type": "display_data"
    }
   ],
   "source": [
    "steps = 3\n",
    "x = 20*steps\n",
    "pos = 200 - x/2\n",
    "\n",
    "from mobilechelonian import Turtle\n",
    "t = Turtle()\n",
    "t.speed(10)\n",
    "t.home()\n",
    "t.penup()\n",
    "t.pencolor(\"pink\")\n",
    "\n",
    "for i in range (4):\n",
    "    t.pendown()\n",
    "    t.forward(x)\n",
    "    t.right(90)"
   ]
  },
  {
   "cell_type": "markdown",
   "id": "d6a3f4eb",
   "metadata": {},
   "source": [
    "<div class=\"alert alert-block alert-info\">\n",
    "What if you wanted to make a figure that had N sides (N > 2), where N is a number you could specify beforehand? You have already made figures with N = 4 (square), N = 8 (octagon), and N = 6 (hexagon). What if you didn't know what N you might choose? How do you think you might do this?\n",
    "</div>"
   ]
  },
  {
   "cell_type": "code",
   "execution_count": 7,
   "id": "ff7bc468",
   "metadata": {},
   "outputs": [
    {
     "data": {
      "application/vnd.jupyter.widget-view+json": {
       "model_id": "c16551a8afd148c2bc110f4b8259d821",
       "version_major": 2,
       "version_minor": 0
      },
      "text/plain": [
       "Turtle()"
      ]
     },
     "metadata": {},
     "output_type": "display_data"
    }
   ],
   "source": [
    "steps = 3 #adjust steps for number of sides\n",
    "x = 20*steps\n",
    "pos = 200 - x/2\n",
    "n = 10 #number of sides\n",
    "angle = round(180 - (((n - 2)*180)/n))\n",
    "\n",
    "from mobilechelonian import Turtle\n",
    "t = Turtle()\n",
    "t.speed(5)\n",
    "t.penup()\n",
    "t.home()\n",
    "\n",
    "t.pencolor(\"yellow\")\n",
    "t.setposition(pos,100)\n",
    "t.pendown()\n",
    "\n",
    "for i in range (n):\n",
    "    t.forward(x)\n",
    "    t.right(angle)\n"
   ]
  },
  {
   "cell_type": "markdown",
   "id": "fe5e2619",
   "metadata": {},
   "source": [
    "In the next three cells are examples of figures you can draw using <code>turtle</code>"
   ]
  },
  {
   "cell_type": "code",
   "execution_count": 50,
   "id": "fb3c76d1",
   "metadata": {},
   "outputs": [
    {
     "data": {
      "application/vnd.jupyter.widget-view+json": {
       "model_id": "ad1ba93aa7124ff78a6246b66eb66c8b",
       "version_major": 2,
       "version_minor": 0
      },
      "text/plain": [
       "Turtle()"
      ]
     },
     "metadata": {},
     "output_type": "display_data"
    }
   ],
   "source": [
    "from mobilechelonian import Turtle\n",
    "\n",
    "t = Turtle()\n",
    "t.speed(5)\n",
    "colours = [\"red\", \"blue\", \"yellow\", \"brown\", \"black\", \"purple\", \"green\"]\n",
    "\n",
    "t.home()\n",
    "t.penup()\n",
    "t.left(90)\n",
    "t.forward(200)\n",
    "t.right(90)\n",
    "t.pendown()\n",
    "\n",
    "for i in range (0,18):\n",
    "    t.pencolor(colours[i%7])\n",
    "    t.right(20)\n",
    "    t.forward(50)\n",
    "\n",
    "t.right(180)\n",
    "t.penup()\n",
    "t.home()"
   ]
  },
  {
   "cell_type": "code",
   "execution_count": 52,
   "id": "76713e58",
   "metadata": {},
   "outputs": [
    {
     "data": {
      "application/vnd.jupyter.widget-view+json": {
       "model_id": "f8739fe97ea24cb88bbd1683a6025b16",
       "version_major": 2,
       "version_minor": 0
      },
      "text/plain": [
       "Turtle()"
      ]
     },
     "metadata": {},
     "output_type": "display_data"
    }
   ],
   "source": [
    "from mobilechelonian import Turtle\n",
    "\n",
    "colors = ['red', 'purple', 'blue', 'green', 'orange', 'yellow']\n",
    "t = Turtle()\n",
    "t.speed(10)\n",
    "\n",
    "for x in range(360):\n",
    "    t.pencolor(colors[x%6])\n",
    "    t.forward(x)\n",
    "    t.left(59)"
   ]
  },
  {
   "cell_type": "code",
   "execution_count": 57,
   "id": "0cf23267",
   "metadata": {},
   "outputs": [
    {
     "data": {
      "application/vnd.jupyter.widget-view+json": {
       "model_id": "76df67175e484292bd182acdb620522d",
       "version_major": 2,
       "version_minor": 0
      },
      "text/plain": [
       "Turtle()"
      ]
     },
     "metadata": {},
     "output_type": "display_data"
    }
   ],
   "source": [
    "from mobilechelonian import Turtle\n",
    "\n",
    "t = Turtle()\n",
    "t.pencolor(\"black\")\n",
    "t.speed(7)\n",
    "\n",
    "def koch(cursor, iterations, length, shortening_factor, angle):\n",
    "    if iterations == 0:\n",
    "        cursor.forward(length)\n",
    "    else:\n",
    "        iterations = iterations - 1\n",
    "        length = length / shortening_factor\n",
    "    \n",
    "        koch(cursor, iterations, length, shortening_factor, angle)\n",
    "        cursor.left(angle)\n",
    "        koch(cursor, iterations, length, shortening_factor, angle)\n",
    "        cursor.right(angle * 2)\n",
    "        koch(cursor, iterations, length, shortening_factor, angle)\n",
    "        cursor.left(angle)\n",
    "        koch(cursor, iterations, length, shortening_factor, angle)\n",
    "        \n",
    "for i in range(3):\n",
    "    koch(t, 4, 200, 3, 60)\n",
    "    t.right(120)"
   ]
  },
  {
   "cell_type": "markdown",
   "id": "2015141c",
   "metadata": {},
   "source": [
    "<div class=\"alert alert-block alert-info\">\n",
    "Working with your tablemates, experiment with <code>turtle</code> - come up with your own patterns using the functions (methods) you've learned about so far.\n",
    "</div>"
   ]
  },
  {
   "cell_type": "code",
   "execution_count": 76,
   "id": "863c7228",
   "metadata": {},
   "outputs": [
    {
     "data": {
      "application/vnd.jupyter.widget-view+json": {
       "model_id": "94cb8444b70047d7b999ceb11529e810",
       "version_major": 2,
       "version_minor": 0
      },
      "text/plain": [
       "Turtle()"
      ]
     },
     "metadata": {},
     "output_type": "display_data"
    }
   ],
   "source": [
    "from mobilechelonian import Turtle\n",
    "\n",
    "x = 5\n",
    "\n",
    "t = Turtle()\n",
    "t.speed(10)\n",
    "\n",
    "colors = ['orange', 'yellow', 'blue', 'green', 'red', 'purple']\n",
    "\n",
    "t.pendown\n",
    "t.forward(x)\n",
    "\n",
    "for i in range(20):\n",
    "    t.pencolor(colors[i%6])\n",
    "    x = x * 1.25\n",
    "    t.right(90)\n",
    "    t.forward(x)\n",
    "    \n",
    "\n"
   ]
  },
  {
   "cell_type": "code",
   "execution_count": 10,
   "id": "b8665383",
   "metadata": {},
   "outputs": [
    {
     "data": {
      "application/vnd.jupyter.widget-view+json": {
       "model_id": "531874cdc10343fcab4a181f70172783",
       "version_major": 2,
       "version_minor": 0
      },
      "text/plain": [
       "Turtle()"
      ]
     },
     "metadata": {},
     "output_type": "display_data"
    }
   ],
   "source": [
    "from mobilechelonian import Turtle\n",
    "\n",
    "t = Turtle()\n",
    "t.speed(10)\n",
    "t.penup()\n",
    "\n",
    "colors = ['orange', 'yellow', 'blue', 'green', 'red', 'purple']\n",
    "\n",
    "x = 0\n",
    "y = 20\n",
    "\n",
    "for i in range (10):\n",
    "    t.pencolor(colors[i%6])\n",
    "    t.setposition(x, y)\n",
    "    t.pendown()\n",
    "    t.setposition(y, x)\n",
    "    t.penup()\n",
    "    y = y + 20\n",
    "    \n",
    "    t.setposition(y, x)\n",
    "    t.pendown()\n",
    "    t.setposition(x, y)\n",
    "    t.penup()\n",
    "    y = y + 20\n",
    "\n",
    "x = 20\n",
    "y = 400\n",
    "\n",
    "for i in range (10):\n",
    "    t.pencolor(colors[i%6])\n",
    "    t.setposition(x, y)\n",
    "    t.pendown()\n",
    "    t.setposition(y, x)\n",
    "    t.penup()\n",
    "    x = x+20\n",
    "    \n",
    "    t.setposition(y, x)\n",
    "    t.pendown()\n",
    "    t.setposition(x, y)\n",
    "    t.penup()\n",
    "    x = x + 20\n"
   ]
  },
  {
   "cell_type": "code",
   "execution_count": 9,
   "id": "7b046650",
   "metadata": {},
   "outputs": [
    {
     "data": {
      "application/vnd.jupyter.widget-view+json": {
       "model_id": "b102f829d50a4b5bb206e766b383da7c",
       "version_major": 2,
       "version_minor": 0
      },
      "text/plain": [
       "Turtle()"
      ]
     },
     "metadata": {},
     "output_type": "display_data"
    }
   ],
   "source": [
    "from mobilechelonian import Turtle\n",
    "\n",
    "t = Turtle()\n",
    "t.speed(10)\n",
    "t.penup()\n",
    "t.home()\n",
    "\n",
    "colors = ['orange', 'yellow', 'blue', 'green', 'red', 'purple']\n",
    "\n",
    "x = 10\n",
    "y = 138\n",
    "\n",
    "for i in range (40):\n",
    "    t.pencolor(colors[i%6])\n",
    "    t.pendown()\n",
    "    t.forward(x)\n",
    "    t.penup()\n",
    "    t.backward(x)\n",
    "    t.right(y)\n",
    "    \n",
    "    x = x*1.1\n",
    "    "
   ]
  },
  {
   "cell_type": "code",
   "execution_count": 8,
   "id": "0155b35f",
   "metadata": {},
   "outputs": [
    {
     "data": {
      "application/vnd.jupyter.widget-view+json": {
       "model_id": "f8a3fad3ef874800811367464b173aa1",
       "version_major": 2,
       "version_minor": 0
      },
      "text/plain": [
       "Turtle()"
      ]
     },
     "metadata": {},
     "output_type": "display_data"
    }
   ],
   "source": [
    "from mobilechelonian import Turtle\n",
    "\n",
    "t = Turtle()\n",
    "t.speed(10)\n",
    "t.penup()\n",
    "\n",
    "colors = ['orange', 'yellow', 'blue', 'green', 'red', 'purple']\n",
    "\n",
    "x = 200\n",
    "y = 135\n",
    "pos = 200 - x/2\n",
    "t.setposition(pos, pos)\n",
    "\n",
    "for i in range (8):\n",
    "    t.pencolor(colors[i%6])\n",
    "    t.pendown()\n",
    "    \n",
    "    t.forward(x)\n",
    "    t.right(y)\n",
    "   \n",
    "    "
   ]
  },
  {
   "cell_type": "code",
   "execution_count": null,
   "id": "22b0ac8c",
   "metadata": {},
   "outputs": [],
   "source": []
  }
 ],
 "metadata": {
  "kernelspec": {
   "display_name": "Python 3",
   "language": "python",
   "name": "python3"
  },
  "language_info": {
   "codemirror_mode": {
    "name": "ipython",
    "version": 3
   },
   "file_extension": ".py",
   "mimetype": "text/x-python",
   "name": "python",
   "nbconvert_exporter": "python",
   "pygments_lexer": "ipython3",
   "version": "3.8.8"
  }
 },
 "nbformat": 4,
 "nbformat_minor": 5
}
